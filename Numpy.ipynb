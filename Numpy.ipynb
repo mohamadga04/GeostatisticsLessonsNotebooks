{
  "nbformat": 4,
  "nbformat_minor": 0,
  "metadata": {
    "colab": {
      "provenance": [],
      "authorship_tag": "ABX9TyN+6YcXOF7VMIfeuA5/4Fnt",
      "include_colab_link": true
    },
    "kernelspec": {
      "name": "python3",
      "display_name": "Python 3"
    },
    "language_info": {
      "name": "python"
    }
  },
  "cells": [
    {
      "cell_type": "markdown",
      "metadata": {
        "id": "view-in-github",
        "colab_type": "text"
      },
      "source": [
        "<a href=\"https://colab.research.google.com/github/mohamadga04/GeostatisticsLessonsNotebooks/blob/master/Numpy.ipynb\" target=\"_parent\"><img src=\"https://colab.research.google.com/assets/colab-badge.svg\" alt=\"Open In Colab\"/></a>"
      ]
    },
    {
      "cell_type": "code",
      "execution_count": null,
      "metadata": {
        "id": "wj60gCht2w-E"
      },
      "outputs": [],
      "source": [
        "import numpy as np"
      ]
    },
    {
      "cell_type": "code",
      "source": [
        "a = np.array([3,3])\n",
        "a"
      ],
      "metadata": {
        "colab": {
          "base_uri": "https://localhost:8080/"
        },
        "id": "fRkINb_g4Idd",
        "outputId": "bcfc3e97-6805-49fc-94ca-d205fa636e2c"
      },
      "execution_count": null,
      "outputs": [
        {
          "output_type": "execute_result",
          "data": {
            "text/plain": [
              "array([3, 3])"
            ]
          },
          "metadata": {},
          "execution_count": 3
        }
      ]
    },
    {
      "cell_type": "code",
      "source": [
        "b=np.zeros(4).reshape(2,2)\n",
        "b"
      ],
      "metadata": {
        "colab": {
          "base_uri": "https://localhost:8080/"
        },
        "id": "oixPFZWZ7h62",
        "outputId": "28f1bf10-a8e2-4337-b57f-4658d1ddb052"
      },
      "execution_count": null,
      "outputs": [
        {
          "output_type": "execute_result",
          "data": {
            "text/plain": [
              "array([[0., 0.],\n",
              "       [0., 0.]])"
            ]
          },
          "metadata": {},
          "execution_count": 4
        }
      ]
    },
    {
      "cell_type": "code",
      "source": [
        "c=np.ones(8).reshape(4,2)\n",
        "c"
      ],
      "metadata": {
        "colab": {
          "base_uri": "https://localhost:8080/"
        },
        "id": "6gEqTNE-8zhf",
        "outputId": "b396d8d5-7eb8-49fe-9a7e-619e7d14a33d"
      },
      "execution_count": null,
      "outputs": [
        {
          "output_type": "execute_result",
          "data": {
            "text/plain": [
              "array([[1., 1.],\n",
              "       [1., 1.],\n",
              "       [1., 1.],\n",
              "       [1., 1.]])"
            ]
          },
          "metadata": {},
          "execution_count": 5
        }
      ]
    },
    {
      "cell_type": "code",
      "source": [
        "d=np.identity(4).reshape(2,8)\n",
        "d"
      ],
      "metadata": {
        "colab": {
          "base_uri": "https://localhost:8080/"
        },
        "id": "IAaCFW4f89Pb",
        "outputId": "1b8c2df4-8c6f-47a9-9a26-9d6b1d2ff464"
      },
      "execution_count": null,
      "outputs": [
        {
          "output_type": "execute_result",
          "data": {
            "text/plain": [
              "array([[1., 0., 0., 0., 0., 1., 0., 0.],\n",
              "       [0., 0., 1., 0., 0., 0., 0., 1.]])"
            ]
          },
          "metadata": {},
          "execution_count": 6
        }
      ]
    },
    {
      "cell_type": "code",
      "source": [
        "np.full(4,8).reshape(2,2)"
      ],
      "metadata": {
        "colab": {
          "base_uri": "https://localhost:8080/"
        },
        "id": "F3ehKzJF97Zt",
        "outputId": "4df72efc-b4e1-4e66-b284-5082a7ea9e9d"
      },
      "execution_count": null,
      "outputs": [
        {
          "output_type": "execute_result",
          "data": {
            "text/plain": [
              "array([[8, 8],\n",
              "       [8, 8]])"
            ]
          },
          "metadata": {},
          "execution_count": 7
        }
      ]
    },
    {
      "cell_type": "code",
      "source": [
        "np.full((7,7),7)"
      ],
      "metadata": {
        "colab": {
          "base_uri": "https://localhost:8080/"
        },
        "id": "9QVRNENt-ZcS",
        "outputId": "36671e24-56c1-43c0-a788-fddd605a21c9"
      },
      "execution_count": null,
      "outputs": [
        {
          "output_type": "execute_result",
          "data": {
            "text/plain": [
              "array([[7, 7, 7, 7, 7, 7, 7],\n",
              "       [7, 7, 7, 7, 7, 7, 7],\n",
              "       [7, 7, 7, 7, 7, 7, 7],\n",
              "       [7, 7, 7, 7, 7, 7, 7],\n",
              "       [7, 7, 7, 7, 7, 7, 7],\n",
              "       [7, 7, 7, 7, 7, 7, 7],\n",
              "       [7, 7, 7, 7, 7, 7, 7]])"
            ]
          },
          "metadata": {},
          "execution_count": 23
        }
      ]
    },
    {
      "cell_type": "code",
      "source": [
        "np.empty((6,2))"
      ],
      "metadata": {
        "colab": {
          "base_uri": "https://localhost:8080/"
        },
        "id": "pSnytHCH-tC4",
        "outputId": "3a41c88c-9aad-4fd9-fcf6-ad231b5577a8"
      },
      "execution_count": null,
      "outputs": [
        {
          "output_type": "execute_result",
          "data": {
            "text/plain": [
              "array([[2.7039177e-316, 0.0000000e+000],\n",
              "       [0.0000000e+000, 0.0000000e+000],\n",
              "       [0.0000000e+000, 0.0000000e+000],\n",
              "       [0.0000000e+000, 0.0000000e+000],\n",
              "       [0.0000000e+000, 0.0000000e+000],\n",
              "       [0.0000000e+000, 0.0000000e+000]])"
            ]
          },
          "metadata": {},
          "execution_count": 28
        }
      ]
    },
    {
      "cell_type": "code",
      "source": [
        "np.arange(5,99,8)            "
      ],
      "metadata": {
        "colab": {
          "base_uri": "https://localhost:8080/"
        },
        "id": "5HGS47-nBORw",
        "outputId": "3cd077aa-1015-4c30-d6d5-784aa2cebbb1"
      },
      "execution_count": null,
      "outputs": [
        {
          "output_type": "execute_result",
          "data": {
            "text/plain": [
              "array([ 5, 13, 21, 29, 37, 45, 53, 61, 69, 77, 85, 93])"
            ]
          },
          "metadata": {},
          "execution_count": 48
        }
      ]
    },
    {
      "cell_type": "code",
      "source": [
        "np.linspace(5,99,8)   # Slicing the data"
      ],
      "metadata": {
        "colab": {
          "base_uri": "https://localhost:8080/"
        },
        "id": "v9XjD6Y5CBS7",
        "outputId": "ab365838-0a04-4d73-bb5b-1a7555303355"
      },
      "execution_count": null,
      "outputs": [
        {
          "output_type": "execute_result",
          "data": {
            "text/plain": [
              "array([ 5.        , 18.42857143, 31.85714286, 45.28571429, 58.71428571,\n",
              "       72.14285714, 85.57142857, 99.        ])"
            ]
          },
          "metadata": {},
          "execution_count": 45
        }
      ]
    },
    {
      "cell_type": "code",
      "source": [
        "np.random.rand(2,5,6)"
      ],
      "metadata": {
        "colab": {
          "base_uri": "https://localhost:8080/"
        },
        "id": "neR_XGEQGBh8",
        "outputId": "57815b6e-c440-4ec5-9112-52071e34ccf9"
      },
      "execution_count": null,
      "outputs": [
        {
          "output_type": "execute_result",
          "data": {
            "text/plain": [
              "array([[[0.79854185, 0.95586002, 0.79996663, 0.44224293, 0.05274772,\n",
              "         0.89181611],\n",
              "        [0.14100915, 0.09524906, 0.4881711 , 0.82960891, 0.81293879,\n",
              "         0.78534765],\n",
              "        [0.18686987, 0.98973501, 0.21430418, 0.36654881, 0.39916876,\n",
              "         0.59816784],\n",
              "        [0.92894807, 0.4176085 , 0.73888086, 0.14123616, 0.70798035,\n",
              "         0.12893471],\n",
              "        [0.21656702, 0.03421617, 0.59577756, 0.06769924, 0.10429742,\n",
              "         0.74447081]],\n",
              "\n",
              "       [[0.35378369, 0.42263852, 0.04523696, 0.46962162, 0.41843591,\n",
              "         0.46539123],\n",
              "        [0.4016833 , 0.3606278 , 0.33439776, 0.16491542, 0.92112243,\n",
              "         0.55016086],\n",
              "        [0.90992867, 0.88378585, 0.52209434, 0.66946398, 0.16153037,\n",
              "         0.61019186],\n",
              "        [0.28336536, 0.64324112, 0.02793776, 0.33050492, 0.38971089,\n",
              "         0.68152417],\n",
              "        [0.95299729, 0.11560936, 0.83431961, 0.30265715, 0.78569966,\n",
              "         0.05247821]]])"
            ]
          },
          "metadata": {},
          "execution_count": 53
        }
      ]
    },
    {
      "cell_type": "code",
      "source": [
        "np.random.randint(3)"
      ],
      "metadata": {
        "id": "EZ9Il5zvKMeO",
        "colab": {
          "base_uri": "https://localhost:8080/"
        },
        "outputId": "1c858ba0-243e-412a-94d7-184ae54b6334"
      },
      "execution_count": null,
      "outputs": [
        {
          "output_type": "execute_result",
          "data": {
            "text/plain": [
              "2"
            ]
          },
          "metadata": {},
          "execution_count": 6
        }
      ]
    },
    {
      "cell_type": "code",
      "source": [
        "c.ndim"
      ],
      "metadata": {
        "colab": {
          "base_uri": "https://localhost:8080/"
        },
        "id": "qoJX6i9yJ8XF",
        "outputId": "ba0347aa-b38d-4813-be04-1f4e6783e146"
      },
      "execution_count": null,
      "outputs": [
        {
          "output_type": "execute_result",
          "data": {
            "text/plain": [
              "2"
            ]
          },
          "metadata": {},
          "execution_count": 9
        }
      ]
    },
    {
      "cell_type": "code",
      "source": [
        "c.shape"
      ],
      "metadata": {
        "colab": {
          "base_uri": "https://localhost:8080/"
        },
        "id": "w-GcJ0rx7rVk",
        "outputId": "8befad8f-38cc-4265-c9e1-8a3eb15309ec"
      },
      "execution_count": null,
      "outputs": [
        {
          "output_type": "execute_result",
          "data": {
            "text/plain": [
              "(4, 2)"
            ]
          },
          "metadata": {},
          "execution_count": 10
        }
      ]
    },
    {
      "cell_type": "code",
      "source": [
        "c.dtype"
      ],
      "metadata": {
        "colab": {
          "base_uri": "https://localhost:8080/"
        },
        "id": "j6bcSFwG8Cb3",
        "outputId": "249b2dab-4b7c-434b-a21a-7781e0d3aa84"
      },
      "execution_count": null,
      "outputs": [
        {
          "output_type": "execute_result",
          "data": {
            "text/plain": [
              "dtype('float64')"
            ]
          },
          "metadata": {},
          "execution_count": 11
        }
      ]
    },
    {
      "cell_type": "code",
      "source": [
        "c.astype(np.float16).dtype"
      ],
      "metadata": {
        "colab": {
          "base_uri": "https://localhost:8080/"
        },
        "id": "MSS8Th7s8uzz",
        "outputId": "81c08148-a4f1-4076-d671-e599a85f1ef7"
      },
      "execution_count": null,
      "outputs": [
        {
          "output_type": "execute_result",
          "data": {
            "text/plain": [
              "dtype('float16')"
            ]
          },
          "metadata": {},
          "execution_count": 9
        }
      ]
    },
    {
      "cell_type": "code",
      "source": [
        "c[:]=9756789\n",
        "c"
      ],
      "metadata": {
        "id": "HaKUbO828yWv",
        "colab": {
          "base_uri": "https://localhost:8080/"
        },
        "outputId": "ef3ed9ff-1e36-4d15-eb8e-f12509426bf5"
      },
      "execution_count": null,
      "outputs": [
        {
          "output_type": "execute_result",
          "data": {
            "text/plain": [
              "array([[9756789., 9756789.],\n",
              "       [9756789., 9756789.],\n",
              "       [9756789., 9756789.],\n",
              "       [9756789., 9756789.]])"
            ]
          },
          "metadata": {},
          "execution_count": 17
        }
      ]
    },
    {
      "cell_type": "code",
      "source": [
        "c[:,1]=0\n",
        "c"
      ],
      "metadata": {
        "colab": {
          "base_uri": "https://localhost:8080/"
        },
        "id": "YZB0F_Rr-npE",
        "outputId": "a13aea3e-fa01-48dc-9886-bd586ec93714"
      },
      "execution_count": null,
      "outputs": [
        {
          "output_type": "execute_result",
          "data": {
            "text/plain": [
              "array([[9756789.,       0.],\n",
              "       [9756789.,       0.],\n",
              "       [9756789.,       0.],\n",
              "       [9756789.,       0.]])"
            ]
          },
          "metadata": {},
          "execution_count": 18
        }
      ]
    },
    {
      "cell_type": "code",
      "source": [
        "a=[1,2,3]\n",
        "b=[4,5,6]\n",
        "c=np.concatenate((a,b))\n",
        "c.reshape(2,3)"
      ],
      "metadata": {
        "colab": {
          "base_uri": "https://localhost:8080/"
        },
        "id": "fK9ktCRbA_Uk",
        "outputId": "e7a823e8-a007-4a68-e00a-621a2f5e3ec1"
      },
      "execution_count": null,
      "outputs": [
        {
          "output_type": "execute_result",
          "data": {
            "text/plain": [
              "array([[1, 2, 3],\n",
              "       [4, 5, 6]])"
            ]
          },
          "metadata": {},
          "execution_count": 24
        }
      ]
    },
    {
      "cell_type": "code",
      "source": [
        "a=[1,2,3]\n",
        "b=[4,5,6]\n",
        "c=np.vstack((a,b))\n",
        "c"
      ],
      "metadata": {
        "colab": {
          "base_uri": "https://localhost:8080/"
        },
        "id": "_SX8d3Z3Jxpa",
        "outputId": "55f7c34f-f243-429b-ca85-f10be2e9ee26"
      },
      "execution_count": null,
      "outputs": [
        {
          "output_type": "execute_result",
          "data": {
            "text/plain": [
              "array([[1, 2, 3],\n",
              "       [4, 5, 6]])"
            ]
          },
          "metadata": {},
          "execution_count": 3
        }
      ]
    },
    {
      "cell_type": "code",
      "source": [
        "d=c\n",
        "d"
      ],
      "metadata": {
        "colab": {
          "base_uri": "https://localhost:8080/"
        },
        "id": "C4ViRs0EPznA",
        "outputId": "52e6f34a-400e-4e46-e446-06b928d612bb"
      },
      "execution_count": null,
      "outputs": [
        {
          "output_type": "execute_result",
          "data": {
            "text/plain": [
              "array([[1, 2, 3],\n",
              "       [4, 5, 6]])"
            ]
          },
          "metadata": {},
          "execution_count": 4
        }
      ]
    },
    {
      "cell_type": "code",
      "source": [],
      "metadata": {
        "id": "8X-2gmDpzGox"
      },
      "execution_count": null,
      "outputs": []
    },
    {
      "cell_type": "code",
      "source": [
        "a=[1,2,3]\n",
        "b=[4,5,6]\n"
      ],
      "metadata": {
        "id": "lsWG8Zb8u3nr"
      },
      "execution_count": null,
      "outputs": []
    },
    {
      "cell_type": "code",
      "source": [
        "np.sort(a)"
      ],
      "metadata": {
        "colab": {
          "base_uri": "https://localhost:8080/"
        },
        "id": "_Jf0p8_azHrS",
        "outputId": "bff82a90-76db-4f06-a23e-c69c3a3ed015"
      },
      "execution_count": null,
      "outputs": [
        {
          "output_type": "execute_result",
          "data": {
            "text/plain": [
              "array([1, 2, 3])"
            ]
          },
          "metadata": {},
          "execution_count": 5
        }
      ]
    },
    {
      "cell_type": "code",
      "source": [],
      "metadata": {
        "id": "-eeDby9kzQPR"
      },
      "execution_count": null,
      "outputs": []
    }
  ]
}